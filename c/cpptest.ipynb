{
 "cells": [
  {
   "cell_type": "code",
   "execution_count": 2,
   "metadata": {},
   "outputs": [
    {
     "name": "stderr",
     "output_type": "stream",
     "text": [
      "/tmp/tmpviskoqqi.c:1:10: fatal error: iostream: No such file or directory\n",
      "    1 | #include <iostream>\n",
      "      |          ^~~~~~~~~~\n",
      "compilation terminated.\n",
      "[C kernel] GCC exited with code 1, the executable will not be executed"
     ]
    }
   ],
   "source": [
    "#include <iostream>\n",
    "\n",
    "int main(int argc, char* argv[]) {\n",
    "    std::cout << \"Hello World\" << std::endl;\n",
    "\n",
    "    return 0;\n",
    "}\n"
   ]
  }
 ],
 "metadata": {
  "kernelspec": {
   "display_name": "C",
   "language": "c",
   "name": "c"
  },
  "language_info": {
   "file_extension": ".c",
   "mimetype": "text/plain",
   "name": "c"
  },
  "orig_nbformat": 4
 },
 "nbformat": 4,
 "nbformat_minor": 2
}
