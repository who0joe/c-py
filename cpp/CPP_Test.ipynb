{
 "cells": [
  {
   "cell_type": "code",
   "execution_count": null,
   "metadata": {
    "vscode": {
     "languageId": "c"
    }
   },
   "outputs": [
    {
     "name": "stdout",
     "output_type": "stream",
     "text": [
      "wrote file run.cpp\n",
      "$> g++   run.cpp    -o run\n",
      "$> ./run \n",
      "Hello CPP World\n"
     ]
    }
   ],
   "source": [
    "//// run.cpp\n",
    "#include <iostream>\n",
    "\n",
    "int main(int argc, char* argv[]) {\n",
    "    std::cout << \"Hello CPP World\" << std::endl;\n",
    "\n",
    "    return 0;\n",
    "}\n"
   ]
  }
 ],
 "metadata": {
  "kernelspec": {
   "display_name": "C++11",
   "language": "C++",
   "name": "cling-cpp11"
  },
  "language_info": {
   "codemirror_mode": "text/x-csrc",
   "name": "C++"
  },
  "orig_nbformat": 4
 },
 "nbformat": 4,
 "nbformat_minor": 2
}
